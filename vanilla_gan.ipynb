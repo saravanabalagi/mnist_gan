{
 "cells": [
  {
   "cell_type": "code",
   "execution_count": 51,
   "outputs": [],
   "source": [
    "import tensorflow as tf\n",
    "import tensorflow.keras as tk\n",
    "\n",
    "from tensorflow.keras.backend import expand_dims, cast\n",
    "from tensorflow.keras.layers import Dense, Flatten, Conv2D, Conv2DTranspose\n",
    "from tensorflow.keras.layers import Input, Dropout, Reshape, LeakyReLU\n",
    "from tensorflow.keras.optimizers import Adam\n",
    "from tensorflow.keras import Model\n",
    "import numpy as np\n",
    "\n",
    "from imshowtools import imshow"
   ],
   "metadata": {
    "collapsed": false,
    "pycharm": {
     "name": "#%%\n",
     "is_executing": false
    }
   }
  },
  {
   "cell_type": "code",
   "execution_count": 52,
   "outputs": [
    {
     "data": {
      "text/plain": "([TensorShape([60000, 28, 28, 1]), (60000,)],\n [TensorShape([10000, 28, 28, 1]), (10000,)])"
     },
     "metadata": {},
     "output_type": "execute_result",
     "execution_count": 52
    }
   ],
   "source": [
    "mnist = tf.keras.datasets.mnist\n",
    "\n",
    "(x_train, y_train), (x_test, y_test) = mnist.load_data()\n",
    "x_train, x_test = x_train / 255.0, x_test / 255.0\n",
    "x_train = cast(expand_dims(x_train, axis=-1), dtype='float32')\n",
    "x_test = cast(expand_dims(x_test, axis=-1), dtype='float32')\n",
    "[x_train.shape, y_train.shape], [x_test.shape, y_test.shape]"
   ],
   "metadata": {
    "collapsed": false,
    "pycharm": {
     "name": "#%%\n",
     "is_executing": false
    }
   }
  },
  {
   "cell_type": "code",
   "execution_count": 53,
   "outputs": [
    {
     "data": {
      "text/plain": "<Figure size 432x288 with 16 Axes>",
      "image/png": "[encoded data removed]"
     },
     "metadata": {
      "needs_background": "light"
     },
     "output_type": "display_data"
    }
   ],
   "source": [
    "imshow(*x_train[:16, :, :, 0], cmap='gray')"
   ],
   "metadata": {
    "collapsed": false,
    "pycharm": {
     "name": "#%%1\n",
     "is_executing": false
    }
   }
  },
  {
   "cell_type": "code",
   "execution_count": 54,
   "outputs": [],
   "source": [
    "def discriminator():\n",
    "    input_image = Input(shape=(28, 28, 1), name=\"image\")\n",
    "    x = Conv2D(64, (3,3), padding=\"same\", strides=(2, 2))(input_image)\n",
    "    x = LeakyReLU(alpha=0.2)(x)\n",
    "    x = Dropout(0.4)(x)\n",
    "    x = Conv2D(64, (3,3), padding=\"same\", strides=(2, 2))(x)\n",
    "    x = LeakyReLU(alpha=0.2)(x)\n",
    "    x = Dropout(0.4)(x)\n",
    "    x = Flatten()(x)\n",
    "    x = Dense(1, activation=\"sigmoid\")(x)\n",
    "    model = Model(inputs=input_image, outputs=x, name=\"discriminator\")\n",
    "    model.compile(optimizer=Adam(lr=0.0002, beta_1=0.5), \n",
    "                  loss=\"binary_crossentropy\", \n",
    "                  metrics=[\"accuracy\"])\n",
    "    return model"
   ],
   "metadata": {
    "collapsed": false,
    "pycharm": {
     "name": "#%%\n",
     "is_executing": false
    }
   }
  },
  {
   "cell_type": "code",
   "execution_count": 55,
   "outputs": [
    {
     "name": "stdout",
     "text": [
      "Model: \"discriminator\"\n",
      "_________________________________________________________________\n",
      "Layer (type)                 Output Shape              Param #   \n",
      "=================================================================\n",
      "image (InputLayer)           [(None, 28, 28, 1)]       0         \n",
      "_________________________________________________________________\n",
      "conv2d_30 (Conv2D)           (None, 14, 14, 64)        640       \n",
      "_________________________________________________________________\n",
      "leaky_re_lu_48 (LeakyReLU)   (None, 14, 14, 64)        0         \n",
      "_________________________________________________________________\n",
      "dropout_21 (Dropout)         (None, 14, 14, 64)        0         \n",
      "_________________________________________________________________\n",
      "conv2d_31 (Conv2D)           (None, 7, 7, 64)          36928     \n",
      "_________________________________________________________________\n",
      "leaky_re_lu_49 (LeakyReLU)   (None, 7, 7, 64)          0         \n",
      "_________________________________________________________________\n",
      "dropout_22 (Dropout)         (None, 7, 7, 64)          0         \n",
      "_________________________________________________________________\n",
      "flatten_10 (Flatten)         (None, 3136)              0         \n",
      "_________________________________________________________________\n",
      "dense_19 (Dense)             (None, 1)                 3137      \n",
      "=================================================================\n",
      "Total params: 40,705\n",
      "Trainable params: 40,705\n",
      "Non-trainable params: 0\n",
      "_________________________________________________________________\n"
     ],
     "output_type": "stream"
    }
   ],
   "source": [
    "model_disc = discriminator()\n",
    "model_disc.summary()"
   ],
   "metadata": {
    "collapsed": false,
    "pycharm": {
     "name": "#%%\n",
     "is_executing": false
    }
   }
  },
  {
   "cell_type": "code",
   "execution_count": 56,
   "outputs": [],
   "source": [
    "def generate_real_samples(dataset, n):\n",
    "    indices = np.random.randint(0, dataset.shape[0], n)\n",
    "    x = tf.gather(dataset, indices)\n",
    "    y = np.ones((n, 1))\n",
    "    return x, y"
   ],
   "metadata": {
    "collapsed": false,
    "pycharm": {
     "name": "#%%\n",
     "is_executing": false
    }
   }
  },
  {
   "cell_type": "code",
   "execution_count": 57,
   "outputs": [],
   "source": [
    "def generate_fake_samples(n):\n",
    "    x = np.random.rand(n, 28, 28, 1)\n",
    "    y = np.zeros((n, 1))\n",
    "    return x, y"
   ],
   "metadata": {
    "collapsed": false,
    "pycharm": {
     "name": "#%%\n",
     "is_executing": false
    }
   }
  },
  {
   "cell_type": "code",
   "execution_count": 58,
   "outputs": [
    {
     "data": {
      "text/plain": "<Figure size 432x288 with 6 Axes>",
      "image/png": "[encoded data removed]"
     },
     "metadata": {
      "needs_background": "light"
     },
     "output_type": "display_data"
    },
    {
     "data": {
      "text/plain": "<Figure size 432x288 with 6 Axes>",
      "image/png": "[encoded data removed]"
     },
     "metadata": {
      "needs_background": "light"
     },
     "output_type": "display_data"
    }
   ],
   "source": [
    "test_fake_samples, _ = generate_fake_samples(6)\n",
    "imshow(*test_fake_samples[:, :, :, 0], cmap=\"gray\")\n",
    "\n",
    "test_real_samples, _ = generate_real_samples(x_train, 6)\n",
    "imshow(*test_real_samples[:, :, :, 0], cmap=\"gray\")"
   ],
   "metadata": {
    "collapsed": false,
    "pycharm": {
     "name": "#%%\n",
     "is_executing": false
    }
   }
  },
  {
   "cell_type": "code",
   "execution_count": 59,
   "outputs": [],
   "source": [
    "def train_discriminator(model, dataset, batch_size=256):\n",
    "    x_real, y_real = generate_real_samples(dataset, batch_size)\n",
    "    x_fake, y_fake = generate_fake_samples(batch_size)\n",
    "    loss_real, acc_real = model.train_on_batch(x_real, y_real)\n",
    "    loss_fake, acc_fake = model.train_on_batch(x_fake, y_fake)\n",
    "    print('{:10.2f} | {:10.2f} | {:10.2f} | {:10.2f}'.format(loss_real, loss_fake, acc_real, acc_fake))"
   ],
   "metadata": {
    "collapsed": false,
    "pycharm": {
     "name": "#%%\n",
     "is_executing": false
    }
   }
  },
  {
   "cell_type": "code",
   "execution_count": 60,
   "outputs": [
    {
     "name": "stdout",
     "text": [
      " loss_real |  loss_fake |   acc_real |   acc_fake\n",
      "      0.70 |       0.72 |       0.39 |       0.29\n",
      "      0.69 |       0.70 |       0.50 |       0.38\n",
      "      0.69 |       0.67 |       0.50 |       0.68\n",
      "      0.69 |       0.66 |       0.54 |       0.77\n",
      "      0.69 |       0.64 |       0.53 |       0.88\n",
      "      0.69 |       0.61 |       0.57 |       0.96\n",
      "      0.69 |       0.60 |       0.58 |       0.99\n",
      "      0.68 |       0.58 |       0.66 |       0.99\n",
      "      0.68 |       0.56 |       0.63 |       1.00\n",
      "      0.68 |       0.53 |       0.66 |       1.00\n",
      "      0.67 |       0.51 |       0.70 |       1.00\n",
      "      0.67 |       0.49 |       0.71 |       1.00\n",
      "      0.67 |       0.46 |       0.73 |       1.00\n",
      "      0.66 |       0.44 |       0.78 |       1.00\n",
      "      0.66 |       0.41 |       0.76 |       1.00\n",
      "      0.66 |       0.39 |       0.79 |       1.00\n",
      "      0.64 |       0.36 |       0.86 |       1.00\n",
      "      0.64 |       0.33 |       0.84 |       1.00\n",
      "      0.63 |       0.30 |       0.89 |       1.00\n",
      "      0.62 |       0.28 |       0.88 |       1.00\n",
      "      0.61 |       0.26 |       0.91 |       1.00\n",
      "      0.60 |       0.23 |       0.90 |       1.00\n",
      "      0.58 |       0.21 |       0.94 |       1.00\n",
      "      0.58 |       0.19 |       0.93 |       1.00\n",
      "      0.56 |       0.18 |       0.94 |       1.00\n",
      "      0.54 |       0.16 |       0.96 |       1.00\n",
      "      0.51 |       0.14 |       0.99 |       1.00\n",
      "      0.50 |       0.13 |       0.98 |       1.00\n",
      "      0.48 |       0.12 |       0.98 |       1.00\n",
      "      0.46 |       0.11 |       0.96 |       1.00\n"
     ],
     "output_type": "stream"
    }
   ],
   "source": [
    "model_disc = discriminator()\n",
    "print('{:>10s} | {:>10s} | {:>10s} | {:>10s}'.format(\"loss_real\", \"loss_fake\", \"acc_real\", \"acc_fake\"))\n",
    "for i in range(30):\n",
    "    train_discriminator(model_disc, x_train, 256)"
   ],
   "metadata": {
    "collapsed": false,
    "pycharm": {
     "name": "#%%\n",
     "is_executing": false
    }
   }
  },
  {
   "cell_type": "code",
   "execution_count": 61,
   "outputs": [],
   "source": [
    "latent_dim = 100\n",
    "def generator():\n",
    "    input_vector = Input(shape=latent_dim)\n",
    "    x = Dense(128 * 7 * 7, activation=\"relu\")(input_vector)\n",
    "    x = LeakyReLU(alpha=0.2)(x)\n",
    "    x = Reshape((7, 7, 128))(x)\n",
    "    x = Conv2DTranspose(128, (4,4), strides=(2,2), padding=\"same\")(x)\n",
    "    x = LeakyReLU(alpha=0.2)(x)\n",
    "    x = Conv2DTranspose(128, (4,4), strides=(2,2), padding=\"same\")(x)\n",
    "    x = LeakyReLU(alpha=0.2)(x)\n",
    "    x = Conv2D(1, (7,7), padding=\"same\", activation=\"sigmoid\")(x)\n",
    "    model = Model(inputs=input_vector, outputs=x, name=\"generator\")\n",
    "    return model"
   ],
   "metadata": {
    "collapsed": false,
    "pycharm": {
     "name": "#%%\n",
     "is_executing": false
    }
   }
  },
  {
   "cell_type": "code",
   "execution_count": 62,
   "outputs": [
    {
     "name": "stdout",
     "text": [
      "Model: \"generator\"\n",
      "_________________________________________________________________\n",
      "Layer (type)                 Output Shape              Param #   \n",
      "=================================================================\n",
      "input_10 (InputLayer)        [(None, 100)]             0         \n",
      "_________________________________________________________________\n",
      "dense_21 (Dense)             (None, 6272)              633472    \n",
      "_________________________________________________________________\n",
      "leaky_re_lu_52 (LeakyReLU)   (None, 6272)              0         \n",
      "_________________________________________________________________\n",
      "reshape_9 (Reshape)          (None, 7, 7, 128)         0         \n",
      "_________________________________________________________________\n",
      "conv2d_transpose_18 (Conv2DT (None, 14, 14, 128)       262272    \n",
      "_________________________________________________________________\n",
      "leaky_re_lu_53 (LeakyReLU)   (None, 14, 14, 128)       0         \n",
      "_________________________________________________________________\n",
      "conv2d_transpose_19 (Conv2DT (None, 28, 28, 128)       262272    \n",
      "_________________________________________________________________\n",
      "leaky_re_lu_54 (LeakyReLU)   (None, 28, 28, 128)       0         \n",
      "_________________________________________________________________\n",
      "conv2d_34 (Conv2D)           (None, 28, 28, 1)         6273      \n",
      "=================================================================\n",
      "Total params: 1,164,289\n",
      "Trainable params: 1,164,289\n",
      "Non-trainable params: 0\n",
      "_________________________________________________________________\n"
     ],
     "output_type": "stream"
    }
   ],
   "source": [
    "model_gen = generator()\n",
    "model_gen.summary()"
   ],
   "metadata": {
    "collapsed": false,
    "pycharm": {
     "name": "#%%\n",
     "is_executing": false
    }
   }
  },
  {
   "cell_type": "code",
   "execution_count": 63,
   "outputs": [],
   "source": [
    "def generate_fake_samples(model: Model, n):\n",
    "    x_latent_vector = np.random.randn(n, latent_dim)\n",
    "    x = model.predict(x_latent_vector)\n",
    "    y = np.zeros((n,1))\n",
    "    return x, y"
   ],
   "metadata": {
    "collapsed": false,
    "pycharm": {
     "name": "#%%\n",
     "is_executing": false
    }
   }
  },
  {
   "cell_type": "code",
   "execution_count": 64,
   "outputs": [
    {
     "data": {
      "text/plain": "<Figure size 432x288 with 6 Axes>",
      "image/png": "[encoded data removed]"
     },
     "metadata": {
      "needs_background": "light"
     },
     "output_type": "display_data"
    }
   ],
   "source": [
    "test_fake_samples, _ = generate_fake_samples(model_gen, 6)\n",
    "imshow(*test_fake_samples[:, :, :, 0], cmap=\"gray\")"
   ],
   "metadata": {
    "collapsed": false,
    "pycharm": {
     "name": "#%%\n",
     "is_executing": false
    }
   }
  },
  {
   "cell_type": "code",
   "execution_count": 65,
   "outputs": [],
   "source": [
    "def gan(generator: Model, discriminator: Model):\n",
    "    discriminator.trainable = False\n",
    "    model = Model(inputs=generator.input, outputs=discriminator(generator.output), name=\"gan\")\n",
    "    model.compile(optimizer=Adam(lr=0.0002, beta_1=0.5), \n",
    "                  loss=\"binary_crossentropy\")\n",
    "    return model"
   ],
   "metadata": {
    "collapsed": false,
    "pycharm": {
     "name": "#%%\n",
     "is_executing": false
    }
   }
  },
  {
   "cell_type": "code",
   "execution_count": 66,
   "outputs": [
    {
     "name": "stdout",
     "text": [
      "Model: \"gan\"\n",
      "_________________________________________________________________\n",
      "Layer (type)                 Output Shape              Param #   \n",
      "=================================================================\n",
      "input_10 (InputLayer)        [(None, 100)]             0         \n",
      "_________________________________________________________________\n",
      "dense_21 (Dense)             (None, 6272)              633472    \n",
      "_________________________________________________________________\n",
      "leaky_re_lu_52 (LeakyReLU)   (None, 6272)              0         \n",
      "_________________________________________________________________\n",
      "reshape_9 (Reshape)          (None, 7, 7, 128)         0         \n",
      "_________________________________________________________________\n",
      "conv2d_transpose_18 (Conv2DT (None, 14, 14, 128)       262272    \n",
      "_________________________________________________________________\n",
      "leaky_re_lu_53 (LeakyReLU)   (None, 14, 14, 128)       0         \n",
      "_________________________________________________________________\n",
      "conv2d_transpose_19 (Conv2DT (None, 28, 28, 128)       262272    \n",
      "_________________________________________________________________\n",
      "leaky_re_lu_54 (LeakyReLU)   (None, 28, 28, 128)       0         \n",
      "_________________________________________________________________\n",
      "conv2d_34 (Conv2D)           (None, 28, 28, 1)         6273      \n",
      "_________________________________________________________________\n",
      "discriminator (Model)        (None, 1)                 40705     \n",
      "=================================================================\n",
      "Total params: 1,204,994\n",
      "Trainable params: 1,164,289\n",
      "Non-trainable params: 40,705\n",
      "_________________________________________________________________\n"
     ],
     "output_type": "stream"
    }
   ],
   "source": [
    "model_gan = gan(model_gen, model_disc)\n",
    "model_gan.summary()"
   ],
   "metadata": {
    "collapsed": false,
    "pycharm": {
     "name": "#%%\n",
     "is_executing": false
    }
   }
  },
  {
   "cell_type": "code",
   "execution_count": 67,
   "outputs": [],
   "source": [
    "def train_generator(model_gan: Model, batch_size=256):\n",
    "    x = np.random.randn(batch_size, latent_dim)\n",
    "    y = np.ones((batch_size, 1))\n",
    "    loss = model_gan.train_on_batch(x, y)\n",
    "    print('{:10.2f}'.format(loss))"
   ],
   "metadata": {
    "collapsed": false,
    "pycharm": {
     "name": "#%%\n",
     "is_executing": false
    }
   }
  },
  {
   "cell_type": "code",
   "execution_count": 68,
   "outputs": [
    {
     "name": "stdout",
     "text": [
      "      Loss\n",
      "      2.40\n",
      "      2.38\n",
      "      2.34\n",
      "      2.30\n",
      "      2.22\n",
      "      2.16\n",
      "      2.08\n",
      "      1.96\n",
      "      1.79\n",
      "      1.59\n"
     ],
     "output_type": "stream"
    }
   ],
   "source": [
    "print('{:>10}'.format(\"Loss\"))\n",
    "for i in range(10):\n",
    "    train_generator(model_gan)"
   ],
   "metadata": {
    "collapsed": false,
    "pycharm": {
     "name": "#%%\n",
     "is_executing": false
    }
   }
  },
  {
   "cell_type": "code",
   "execution_count": 73,
   "outputs": [],
   "source": [
    "def train_gan(model_disc: Model, model_gen: Model, model_gan: Model, batch_size, epochs):\n",
    "    # print('{:>10} | {:>10} | {:>10} | {:>10}'.format(\"Epoch\", \"Loss Fake\", \"Loss Real\", \"Loss Gen\"))\n",
    "    print('{:>10} | {:>10} | {:>10}'.format(\"Epoch\", \"Loss Disc\", \"Loss Gen\"))\n",
    "    step_size = len(x_train) // batch_size\n",
    "    for i in range(epochs):\n",
    "        for j in range(step_size):\n",
    "            x_fake, y_fake = generate_fake_samples(model_gen, batch_size//2)\n",
    "            x_real, y_real = generate_real_samples(x_train, batch_size//2)\n",
    "            x = tf.concat([x_fake, x_real], axis=0)\n",
    "            y = tf.concat([y_fake, y_real], axis=0)\n",
    "            loss_disc, _ = model_disc.train_on_batch(x, y)\n",
    "            # loss_fake, acc_fake = model_disc.train_on_batch(x_fake, y_fake)\n",
    "            # loss_real, acc_real = model_disc.train_on_batch(x_real, y_real)\n",
    "            \n",
    "            x_latent_vectors = np.random.randn(batch_size, latent_dim)\n",
    "            loss_gen = model_gan.train_on_batch(x_latent_vectors, np.ones((batch_size, 1)))\n",
    "        \n",
    "        # print('{:10d} | {:10.2f} | {:10.2f} | {:10.2f}'.format(i+1, loss_fake, loss_real, loss_gen))\n",
    "        print('{:10d} | {:10.2f} | {:10.2f}'.format(i+1, loss_disc, loss_gen))"
   ],
   "metadata": {
    "collapsed": false,
    "pycharm": {
     "name": "#%%\n",
     "is_executing": false
    }
   }
  },
  {
   "cell_type": "code",
   "execution_count": 74,
   "outputs": [],
   "source": [
    "model_disc = discriminator()\n",
    "model_gen = generator()\n",
    "model_gan = gan(model_gen, model_disc)"
   ],
   "metadata": {
    "collapsed": false,
    "pycharm": {
     "name": "#%%\n",
     "is_executing": false
    }
   }
  },
  {
   "cell_type": "code",
   "execution_count": 75,
   "outputs": [
    {
     "name": "stdout",
     "text": [
      "     Epoch |  Loss Disc |   Loss Gen\n",
      "         1 |       0.07 |       2.57\n",
      "         2 |       0.46 |       0.79\n",
      "         3 |       0.90 |       0.54\n",
      "         4 |       0.67 |       0.84\n",
      "         5 |       0.79 |       0.66\n",
      "         6 |       0.68 |       0.74\n",
      "         7 |       0.69 |       0.74\n",
      "         8 |       0.67 |       0.75\n",
      "         9 |       0.66 |       0.70\n",
      "        10 |       0.74 |       0.72\n"
     ],
     "output_type": "stream"
    }
   ],
   "source": [
    "train_gan(model_disc, model_gen, model_gan, batch_size=256, epochs=10)"
   ],
   "metadata": {
    "collapsed": false,
    "pycharm": {
     "name": "#%%\n",
     "is_executing": false
    }
   }
  },
  {
   "cell_type": "code",
   "execution_count": 87,
   "outputs": [
    {
     "data": {
      "text/plain": "<Figure size 432x288 with 16 Axes>",
      "image/png": "[encoded data removed]"
     },
     "metadata": {
      "needs_background": "light"
     },
     "output_type": "display_data"
    }
   ],
   "source": [
    "test_fake_samples, _ = generate_fake_samples(model_gen, 16)\n",
    "imshow(*test_fake_samples[:, :, :, 0], cmap=\"gray\")"
   ],
   "metadata": {
    "collapsed": false,
    "pycharm": {
     "name": "#%%\n",
     "is_executing": false
    }
   }
  }
 ],
 "metadata": {
  "kernelspec": {
   "display_name": "Python 3",
   "language": "python",
   "name": "python3"
  },
  "language_info": {
   "codemirror_mode": {
    "name": "ipython",
    "version": 2
   },
   "file_extension": ".py",
   "mimetype": "text/x-python",
   "name": "python",
   "nbconvert_exporter": "python",
   "pygments_lexer": "ipython2",
   "version": "2.7.6"
  },
  "pycharm": {
   "stem_cell": {
    "cell_type": "raw",
    "source": [],
    "metadata": {
     "collapsed": false
    }
   }
  }
 },
 "nbformat": 4,
 "nbformat_minor": 0
}